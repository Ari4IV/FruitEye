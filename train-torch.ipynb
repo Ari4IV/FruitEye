{
 "cells": [
  {
   "cell_type": "markdown",
   "metadata": {},
   "source": [
    "# 芒果品質分類模型\n",
    "\n",
    "這個 Jupyter Notebook 會展示如何使用 PyTorch 和預訓練的 ResNet50 模型來訓練一個圖片分類器，以識別不同品質的芒果捏。\n",
    "\n",
    "## 導入必要的庫\n",
    "\n",
    "首先，我們需要導入 PyTorch 相關的庫以及 torchvision，後者提供了許多有用的工具和預訓練模型捏。\n"
   ]
  },
  {
   "cell_type": "code",
   "execution_count": 1,
   "metadata": {},
   "outputs": [],
   "source": [
    "import torch\n",
    "from torchvision import datasets, transforms, models\n",
    "from torch.utils.data import DataLoader\n"
   ]
  },
  {
   "cell_type": "markdown",
   "metadata": {},
   "source": [
    "## 設定圖片轉換\n",
    "\n",
    "我們將設定轉換來預處理圖片資料捏。這包括調整圖片大小、轉換為張量以及標準化捏。\n"
   ]
  },
  {
   "cell_type": "code",
   "execution_count": 2,
   "metadata": {},
   "outputs": [],
   "source": [
    "# 設定圖片轉換捏\n",
    "train_transform = transforms.Compose([\n",
    "    transforms.RandomResizedCrop(224),\n",
    "    transforms.RandomHorizontalFlip(),\n",
    "    transforms.RandomRotation(10),\n",
    "    transforms.ColorJitter(brightness=0.2, contrast=0.2, saturation=0.2, hue=0.2),\n",
    "    transforms.ToTensor(),\n",
    "    transforms.Normalize(mean=[0.485, 0.456, 0.406], std=[0.229, 0.224, 0.225])\n",
    "])\n",
    "\n",
    "val_transform = transforms.Compose([\n",
    "    transforms.Resize(256),\n",
    "    transforms.CenterCrop(224),\n",
    "    transforms.ToTensor(),\n",
    "    transforms.Normalize(mean=[0.485, 0.456, 0.406], std=[0.229, 0.224, 0.225])\n",
    "])\n"
   ]
  },
  {
   "cell_type": "markdown",
   "metadata": {},
   "source": [
    "## 加載訓練和驗證資料集\n",
    "\n",
    "使用 ImageFolder 來加載訓練和驗證資料捏，這將自動為我們的圖片標籤化捏。\n"
   ]
  },
  {
   "cell_type": "code",
   "execution_count": 3,
   "metadata": {},
   "outputs": [],
   "source": [
    "# 加載訓練和驗證資料捏\n",
    "train_data = datasets.ImageFolder('dataset/train', transform=train_transform)\n",
    "val_data = datasets.ImageFolder('dataset/valid', transform=val_transform)\n",
    "\n",
    "train_loader = DataLoader(train_data, batch_size=32, shuffle=True)\n",
    "val_loader = DataLoader(val_data, batch_size=32, shuffle=False)\n"
   ]
  },
  {
   "cell_type": "markdown",
   "metadata": {},
   "source": [
    "## 建立和修改模型\n",
    "\n",
    "我們將使用預訓練的 ResNet50 模型，並修改最後的全連接層以適應我們的三個類別捏。\n"
   ]
  },
  {
   "cell_type": "code",
   "execution_count": 4,
   "metadata": {},
   "outputs": [
    {
     "name": "stderr",
     "output_type": "stream",
     "text": [
      "c:\\Users\\Alan\\anaconda3\\Lib\\site-packages\\torchvision\\models\\_utils.py:208: UserWarning: The parameter 'pretrained' is deprecated since 0.13 and may be removed in the future, please use 'weights' instead.\n",
      "  warnings.warn(\n",
      "c:\\Users\\Alan\\anaconda3\\Lib\\site-packages\\torchvision\\models\\_utils.py:223: UserWarning: Arguments other than a weight enum or `None` for 'weights' are deprecated since 0.13 and may be removed in the future. The current behavior is equivalent to passing `weights=ResNet50_Weights.IMAGENET1K_V1`. You can also use `weights=ResNet50_Weights.DEFAULT` to get the most up-to-date weights.\n",
      "  warnings.warn(msg)\n"
     ]
    }
   ],
   "source": [
    "model = models.resnet50(pretrained=True)\n",
    "num_ftrs = model.fc.in_features\n",
    "model.fc = torch.nn.Linear(num_ftrs, 3)  # 修改最後一層以匹配三個類別捏\n"
   ]
  },
  {
   "cell_type": "markdown",
   "metadata": {},
   "source": [
    "## 設定裝置\n",
    "\n",
    "確認是否可以使用 CUDA，並設定相應的裝置捏。\n"
   ]
  },
  {
   "cell_type": "code",
   "execution_count": 5,
   "metadata": {},
   "outputs": [
    {
     "name": "stdout",
     "output_type": "stream",
     "text": [
      "CUDA is available. Training on GPU.\n"
     ]
    }
   ],
   "source": [
    "if torch.cuda.is_available():\n",
    "    print(\"CUDA is available. Training on GPU.\")\n",
    "else:\n",
    "    print(\"CUDA is not available. Training on CPU.\")\n",
    "\n",
    "# 設定裝置捏\n",
    "device = torch.device(\"cuda:0\" if torch.cuda.is_available() else \"cpu\")\n",
    "model = model.to(device)\n"
   ]
  },
  {
   "cell_type": "markdown",
   "metadata": {},
   "source": [
    "## 定義損失函數和優化器\n",
    "\n",
    "為訓練過程設定損失函數和優化器捏。\n"
   ]
  },
  {
   "cell_type": "code",
   "execution_count": 6,
   "metadata": {},
   "outputs": [],
   "source": [
    "criterion = torch.nn.CrossEntropyLoss()\n",
    "optimizer = torch.optim.Adam(model.parameters(), lr=0.001)\n",
    "scheduler = torch.optim.lr_scheduler.StepLR(optimizer, step_size=7, gamma=0.1)\n"
   ]
  },
  {
   "cell_type": "markdown",
   "metadata": {},
   "source": [
    "## 訓練模型\n",
    "\n",
    "定義一個函數來執行訓練循環，包括前向傳播、損失計算、反向傳播和參數更新捏。\n"
   ]
  },
  {
   "cell_type": "code",
   "execution_count": 7,
   "metadata": {},
   "outputs": [],
   "source": [
    "def train_model(model, criterion, optimizer, train_loader, val_loader, device, num_epochs=50):\n",
    "    model.to(device)\n",
    "    for epoch in range(num_epochs):\n",
    "        model.train()\n",
    "        running_loss = 0.0\n",
    "        for images, labels in train_loader:\n",
    "            images, labels = images.to(device), labels.to(device)\n",
    "            optimizer.zero_grad()\n",
    "            outputs = model(images)\n",
    "            loss = criterion(outputs, labels)\n",
    "            loss.backward()\n",
    "            optimizer.step()\n",
    "            running_loss += loss.item()\n",
    "\n",
    "        # 調整學習率捏\n",
    "        scheduler.step()\n",
    "\n",
    "        # 驗證階段和輸出訓練資訊捏\n",
    "        model.eval()\n",
    "        val_loss = 0.0\n",
    "        correct = 0\n",
    "        total = 0\n",
    "        with torch.no_grad():\n",
    "            for images, labels in val_loader:\n",
    "                images, labels = images.to(device), labels.to(device)\n",
    "                outputs = model(images)\n",
    "                loss = criterion(outputs, labels)\n",
    "                val_loss += loss.item()\n",
    "                _, predicted = torch.max(outputs.data, 1)\n",
    "                total += labels.size(0)\n",
    "                correct += (predicted == labels).sum().item()\n",
    "\n",
    "        print(f'Epoch {epoch+1}, Train Loss: {running_loss / len(train_loader)}, '\n",
    "            f'Val Loss: {val_loss / len(val_loader)}, '\n",
    "            f'Accuracy: {100 * correct / total}%')\n",
    "\n"
   ]
  },
  {
   "cell_type": "markdown",
   "metadata": {},
   "source": [
    "## 開始訓練和儲存模型\n",
    "\n",
    "最後，我們執行訓練函數並儲存訓練好的模型捏。\n"
   ]
  },
  {
   "cell_type": "code",
   "execution_count": 8,
   "metadata": {},
   "outputs": [
    {
     "name": "stdout",
     "output_type": "stream",
     "text": [
      "Epoch 1, Train Loss: 0.8612371165411813, Val Loss: 0.6394688212871551, Accuracy: 70.5%\n",
      "Epoch 2, Train Loss: 0.800097200870514, Val Loss: 0.7269153022766113, Accuracy: 64.875%\n",
      "Epoch 3, Train Loss: 0.7866713152612959, Val Loss: 0.6318838155269623, Accuracy: 70.0%\n",
      "Epoch 4, Train Loss: 0.7691187163761684, Val Loss: 0.651935625076294, Accuracy: 69.75%\n",
      "Epoch 5, Train Loss: 0.7215755292347499, Val Loss: 0.6014129391312599, Accuracy: 71.375%\n",
      "Epoch 6, Train Loss: 0.7413893069539751, Val Loss: 0.6797557258605957, Accuracy: 68.375%\n",
      "Epoch 7, Train Loss: 0.7406436913354056, Val Loss: 0.6148427212238312, Accuracy: 71.375%\n",
      "Epoch 8, Train Loss: 0.6943043972764696, Val Loss: 0.5765698802471161, Accuracy: 73.875%\n",
      "Epoch 9, Train Loss: 0.6672165969439915, Val Loss: 0.5676766800880432, Accuracy: 75.0%\n",
      "Epoch 10, Train Loss: 0.6763510348115649, Val Loss: 0.552786613702774, Accuracy: 76.125%\n",
      "Epoch 11, Train Loss: 0.6711225712299347, Val Loss: 0.5421437650918961, Accuracy: 75.375%\n",
      "Epoch 12, Train Loss: 0.653846845115934, Val Loss: 0.550153546333313, Accuracy: 75.5%\n",
      "Epoch 13, Train Loss: 0.6475934701306479, Val Loss: 0.5207699054479599, Accuracy: 77.125%\n",
      "Epoch 14, Train Loss: 0.6527763155528478, Val Loss: 0.5141953045129776, Accuracy: 77.0%\n",
      "Epoch 15, Train Loss: 0.650418301309858, Val Loss: 0.5101851493120193, Accuracy: 78.0%\n",
      "Epoch 16, Train Loss: 0.6389611438342503, Val Loss: 0.5104199755191803, Accuracy: 77.5%\n",
      "Epoch 17, Train Loss: 0.6283011540344783, Val Loss: 0.5101450878381729, Accuracy: 77.5%\n",
      "Epoch 18, Train Loss: 0.6427606960705349, Val Loss: 0.5124835336208343, Accuracy: 77.5%\n",
      "Epoch 19, Train Loss: 0.6164980096476419, Val Loss: 0.5232978630065918, Accuracy: 77.5%\n",
      "Epoch 20, Train Loss: 0.6324534186295101, Val Loss: 0.5160179305076599, Accuracy: 77.375%\n",
      "Epoch 21, Train Loss: 0.6233843266963959, Val Loss: 0.502742320895195, Accuracy: 77.75%\n",
      "Epoch 22, Train Loss: 0.6290220241887229, Val Loss: 0.5090320152044296, Accuracy: 77.875%\n",
      "Epoch 23, Train Loss: 0.6308119939054762, Val Loss: 0.5105094981193542, Accuracy: 77.875%\n",
      "Epoch 24, Train Loss: 0.6258319338730404, Val Loss: 0.5096928536891937, Accuracy: 77.875%\n",
      "Epoch 25, Train Loss: 0.6283160439559392, Val Loss: 0.5103102105855942, Accuracy: 77.75%\n",
      "Epoch 26, Train Loss: 0.6254669530051095, Val Loss: 0.5153065943717956, Accuracy: 77.625%\n",
      "Epoch 27, Train Loss: 0.6337584369523185, Val Loss: 0.5098152905702591, Accuracy: 78.25%\n",
      "Epoch 28, Train Loss: 0.6322944150652204, Val Loss: 0.510966238975525, Accuracy: 78.125%\n",
      "Epoch 29, Train Loss: 0.6261797893047333, Val Loss: 0.5130200600624084, Accuracy: 77.5%\n",
      "Epoch 30, Train Loss: 0.6202244782447814, Val Loss: 0.5098777341842652, Accuracy: 78.0%\n",
      "Epoch 31, Train Loss: 0.6314023460660662, Val Loss: 0.5125171852111816, Accuracy: 77.625%\n",
      "Epoch 32, Train Loss: 0.6250145874704633, Val Loss: 0.5141306579113006, Accuracy: 77.0%\n",
      "Epoch 33, Train Loss: 0.6331251636573246, Val Loss: 0.5148934972286224, Accuracy: 77.75%\n",
      "Epoch 34, Train Loss: 0.6290239417552947, Val Loss: 0.5084738087654114, Accuracy: 78.125%\n",
      "Epoch 35, Train Loss: 0.6217428130762918, Val Loss: 0.5129668629169464, Accuracy: 78.0%\n",
      "Epoch 36, Train Loss: 0.6270920217037201, Val Loss: 0.5104196017980576, Accuracy: 77.75%\n",
      "Epoch 37, Train Loss: 0.6249428003174918, Val Loss: 0.5027156299352646, Accuracy: 78.125%\n",
      "Epoch 38, Train Loss: 0.6330294036865234, Val Loss: 0.511349937915802, Accuracy: 77.75%\n",
      "Epoch 39, Train Loss: 0.6331297867638724, Val Loss: 0.5119138085842132, Accuracy: 77.875%\n",
      "Epoch 40, Train Loss: 0.6333693565641131, Val Loss: 0.5080733799934387, Accuracy: 78.0%\n",
      "Epoch 41, Train Loss: 0.6353164834635598, Val Loss: 0.5049215918779373, Accuracy: 78.125%\n",
      "Epoch 42, Train Loss: 0.6272815900189536, Val Loss: 0.5059194886684417, Accuracy: 77.625%\n",
      "Epoch 43, Train Loss: 0.6268277938025338, Val Loss: 0.5189323782920837, Accuracy: 77.5%\n",
      "Epoch 44, Train Loss: 0.6226058813503811, Val Loss: 0.5125428992509842, Accuracy: 77.625%\n",
      "Epoch 45, Train Loss: 0.6095299800804683, Val Loss: 0.5215982687473297, Accuracy: 77.625%\n",
      "Epoch 46, Train Loss: 0.6186652731895447, Val Loss: 0.5072385185956955, Accuracy: 77.75%\n",
      "Epoch 47, Train Loss: 0.6271917036601475, Val Loss: 0.505642637014389, Accuracy: 78.125%\n",
      "Epoch 48, Train Loss: 0.6389431665624891, Val Loss: 0.5090894347429276, Accuracy: 77.875%\n",
      "Epoch 49, Train Loss: 0.627114258153098, Val Loss: 0.5276019871234894, Accuracy: 77.0%\n",
      "Epoch 50, Train Loss: 0.627292571749006, Val Loss: 0.5066031837463378, Accuracy: 78.25%\n"
     ]
    }
   ],
   "source": [
    "# 開始訓練捏\n",
    "train_model(model, criterion, optimizer, train_loader, val_loader, device)\n",
    "\n",
    "# 儲存模型捏\n",
    "torch.save(model.state_dict(), 'mango_classifier.pth')\n"
   ]
  }
 ],
 "metadata": {
  "kernelspec": {
   "display_name": "base",
   "language": "python",
   "name": "python3"
  },
  "language_info": {
   "codemirror_mode": {
    "name": "ipython",
    "version": 3
   },
   "file_extension": ".py",
   "mimetype": "text/x-python",
   "name": "python",
   "nbconvert_exporter": "python",
   "pygments_lexer": "ipython3",
   "version": "3.12.4"
  }
 },
 "nbformat": 4,
 "nbformat_minor": 4
}
