{
 "cells": [
  {
   "cell_type": "markdown",
   "metadata": {},
   "source": [
    "# 芒果品質分類模型\n",
    "\n",
    "這個 Jupyter Notebook 會展示如何使用 PyTorch 和預訓練的 ResNet50 模型來訓練一個圖片分類器，以識別不同品質的芒果捏。\n",
    "\n",
    "## 導入必要的庫\n",
    "\n",
    "首先，我們需要導入 PyTorch 相關的庫以及 torchvision，後者提供了許多有用的工具和預訓練模型捏。\n"
   ]
  },
  {
   "cell_type": "code",
   "execution_count": 1,
   "metadata": {},
   "outputs": [],
   "source": [
    "import torch\n",
    "from torchvision import datasets, transforms, models\n",
    "from torch.utils.data import DataLoader\n"
   ]
  },
  {
   "cell_type": "markdown",
   "metadata": {},
   "source": [
    "## 設定圖片轉換\n",
    "\n",
    "我們將設定轉換來預處理圖片資料捏。這包括調整圖片大小、轉換為張量以及標準化捏。\n"
   ]
  },
  {
   "cell_type": "code",
   "execution_count": 2,
   "metadata": {},
   "outputs": [],
   "source": [
    "# 設定圖片轉換捏\n",
    "transform = transforms.Compose([\n",
    "    transforms.Resize((224, 224)),  # 調整圖片大小以適合模型捏\n",
    "    transforms.ToTensor(),\n",
    "    transforms.Normalize(mean=[0.485, 0.456, 0.406], std=[0.229, 0.224, 0.225])  # 正規化捏\n",
    "])\n"
   ]
  },
  {
   "cell_type": "markdown",
   "metadata": {},
   "source": [
    "## 加載訓練和驗證資料集\n",
    "\n",
    "使用 ImageFolder 來加載訓練和驗證資料捏，這將自動為我們的圖片標籤化捏。\n"
   ]
  },
  {
   "cell_type": "code",
   "execution_count": 3,
   "metadata": {},
   "outputs": [],
   "source": [
    "# 加載訓練和驗證資料捏\n",
    "train_data = datasets.ImageFolder('dataset/train', transform=transform)\n",
    "val_data = datasets.ImageFolder('dataset/val', transform=transform)\n",
    "\n",
    "train_loader = DataLoader(train_data, batch_size=32, shuffle=True)\n",
    "val_loader = DataLoader(val_data, batch_size=32, shuffle=False)\n"
   ]
  },
  {
   "cell_type": "markdown",
   "metadata": {},
   "source": [
    "## 建立和修改模型\n",
    "\n",
    "我們將使用預訓練的 ResNet50 模型，並修改最後的全連接層以適應我們的三個類別捏。\n"
   ]
  },
  {
   "cell_type": "code",
   "execution_count": 4,
   "metadata": {},
   "outputs": [
    {
     "name": "stderr",
     "output_type": "stream",
     "text": [
      "C:\\Users\\Alan\\AppData\\Local\\Programs\\Python\\Python312\\Lib\\site-packages\\torchvision\\models\\_utils.py:208: UserWarning: The parameter 'pretrained' is deprecated since 0.13 and may be removed in the future, please use 'weights' instead.\n",
      "  warnings.warn(\n",
      "C:\\Users\\Alan\\AppData\\Local\\Programs\\Python\\Python312\\Lib\\site-packages\\torchvision\\models\\_utils.py:223: UserWarning: Arguments other than a weight enum or `None` for 'weights' are deprecated since 0.13 and may be removed in the future. The current behavior is equivalent to passing `weights=ResNet50_Weights.IMAGENET1K_V1`. You can also use `weights=ResNet50_Weights.DEFAULT` to get the most up-to-date weights.\n",
      "  warnings.warn(msg)\n"
     ]
    }
   ],
   "source": [
    "model = models.resnet50(pretrained=True)\n",
    "num_ftrs = model.fc.in_features\n",
    "model.fc = torch.nn.Linear(num_ftrs, 3)  # 修改最後一層以匹配三個類別捏\n"
   ]
  },
  {
   "cell_type": "markdown",
   "metadata": {},
   "source": [
    "## 設定裝置\n",
    "\n",
    "確認是否可以使用 CUDA，並設定相應的裝置捏。\n"
   ]
  },
  {
   "cell_type": "code",
   "execution_count": 5,
   "metadata": {},
   "outputs": [
    {
     "name": "stdout",
     "output_type": "stream",
     "text": [
      "CUDA is available. Training on GPU.\n"
     ]
    }
   ],
   "source": [
    "if torch.cuda.is_available():\n",
    "    print(\"CUDA is available. Training on GPU.\")\n",
    "else:\n",
    "    print(\"CUDA is not available. Training on CPU.\")\n",
    "\n",
    "# 設定裝置捏\n",
    "device = torch.device(\"cuda:0\" if torch.cuda.is_available() else \"cpu\")\n",
    "model = model.to(device)\n"
   ]
  },
  {
   "cell_type": "markdown",
   "metadata": {},
   "source": [
    "## 定義損失函數和優化器\n",
    "\n",
    "為訓練過程設定損失函數和優化器捏。\n"
   ]
  },
  {
   "cell_type": "code",
   "execution_count": 6,
   "metadata": {},
   "outputs": [],
   "source": [
    "criterion = torch.nn.CrossEntropyLoss()\n",
    "optimizer = torch.optim.Adam(model.parameters(), lr=0.001)\n"
   ]
  },
  {
   "cell_type": "markdown",
   "metadata": {},
   "source": [
    "## 訓練模型\n",
    "\n",
    "定義一個函數來執行訓練循環，包括前向傳播、損失計算、反向傳播和參數更新捏。\n"
   ]
  },
  {
   "cell_type": "code",
   "execution_count": 7,
   "metadata": {},
   "outputs": [],
   "source": [
    "def train_model(model, criterion, optimizer, train_loader, val_loader, device, num_epochs=25):\n",
    "    model.to(device)\n",
    "    for epoch in range(num_epochs):\n",
    "        model.train()\n",
    "        running_loss = 0.0\n",
    "        for images, labels in train_loader:\n",
    "            images, labels = images.to(device), labels.to(device)\n",
    "            optimizer.zero_grad()\n",
    "            outputs = model(images)\n",
    "            loss = criterion(outputs, labels)\n",
    "            loss.backward()\n",
    "            optimizer.step()\n",
    "            running_loss += loss.item()\n",
    "\n",
    "        model.eval()\n",
    "        with torch.no_grad():\n",
    "            correct = 0\n",
    "            total = 0\n",
    "            for images, labels in val_loader:\n",
    "                images, labels = images.to(device), labels.to(device)\n",
    "                outputs = model(images)\n",
    "                _, predicted = torch.max(outputs.data, 1)\n",
    "                total += labels.size(0)\n",
    "                correct += (predicted == labels).sum().item()\n",
    "\n",
    "        print(f'Epoch {epoch+1}, Loss: {running_loss / len(train_loader)}, Accuracy: {100 * correct / total}%')\n"
   ]
  },
  {
   "cell_type": "markdown",
   "metadata": {},
   "source": [
    "## 開始訓練和儲存模型\n",
    "\n",
    "最後，我們執行訓練函數並儲存訓練好的模型捏。\n"
   ]
  },
  {
   "cell_type": "code",
   "execution_count": 8,
   "metadata": {},
   "outputs": [
    {
     "name": "stdout",
     "output_type": "stream",
     "text": [
      "Epoch 1, Loss: 0.701308946609497, Accuracy: 64.5%\n",
      "Epoch 2, Loss: 0.599711287021637, Accuracy: 74.75%\n",
      "Epoch 3, Loss: 0.5704260306698935, Accuracy: 76.75%\n",
      "Epoch 4, Loss: 0.5143997662408011, Accuracy: 64.0%\n",
      "Epoch 5, Loss: 0.4912255220753806, Accuracy: 76.375%\n",
      "Epoch 6, Loss: 0.48826928896563393, Accuracy: 71.625%\n",
      "Epoch 7, Loss: 0.45617284417152404, Accuracy: 75.875%\n",
      "Epoch 8, Loss: 0.4399227273464203, Accuracy: 76.75%\n",
      "Epoch 9, Loss: 0.42387222698756627, Accuracy: 74.25%\n",
      "Epoch 10, Loss: 0.3729315223012652, Accuracy: 72.0%\n",
      "Epoch 11, Loss: 0.37132919004985265, Accuracy: 72.0%\n",
      "Epoch 12, Loss: 0.3030768857257707, Accuracy: 72.875%\n",
      "Epoch 13, Loss: 0.3016481349297932, Accuracy: 74.5%\n",
      "Epoch 14, Loss: 0.27622205355337687, Accuracy: 74.625%\n",
      "Epoch 15, Loss: 0.21128185591527393, Accuracy: 75.75%\n",
      "Epoch 16, Loss: 0.16629441560379096, Accuracy: 74.125%\n",
      "Epoch 17, Loss: 0.19859074381845337, Accuracy: 72.5%\n",
      "Epoch 18, Loss: 0.1510795097798109, Accuracy: 68.125%\n",
      "Epoch 19, Loss: 0.1597613086551428, Accuracy: 75.625%\n",
      "Epoch 20, Loss: 0.09416241379720824, Accuracy: 73.0%\n",
      "Epoch 21, Loss: 0.11809929264975445, Accuracy: 73.375%\n",
      "Epoch 22, Loss: 0.08357736948079296, Accuracy: 72.25%\n",
      "Epoch 23, Loss: 0.08553542645914214, Accuracy: 74.875%\n",
      "Epoch 24, Loss: 0.0933505691454879, Accuracy: 70.625%\n",
      "Epoch 25, Loss: 0.08109206851239183, Accuracy: 73.0%\n"
     ]
    }
   ],
   "source": [
    "# 開始訓練捏\n",
    "train_model(model, criterion, optimizer, train_loader, val_loader, device)\n",
    "\n",
    "# 儲存模型捏\n",
    "torch.save(model.state_dict(), 'mango_classifier.pth')\n"
   ]
  }
 ],
 "metadata": {
  "kernelspec": {
   "display_name": "Python 3 (ipykernel)",
   "language": "python",
   "name": "python3"
  },
  "language_info": {
   "codemirror_mode": {
    "name": "ipython",
    "version": 3
   },
   "file_extension": ".py",
   "mimetype": "text/x-python",
   "name": "python",
   "nbconvert_exporter": "python",
   "pygments_lexer": "ipython3",
   "version": "3.12.3"
  }
 },
 "nbformat": 4,
 "nbformat_minor": 4
}
